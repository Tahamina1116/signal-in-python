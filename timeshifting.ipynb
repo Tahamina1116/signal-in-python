{
 "cells": [
  {
   "cell_type": "code",
   "execution_count": 1,
   "id": "cb432e02-4824-41e3-ae3d-f704794c44c9",
   "metadata": {},
   "outputs": [],
   "source": [
    "import numpy as np\n",
    "import matplotlib.pyplot as plt"
   ]
  },
  {
   "cell_type": "code",
   "execution_count": 21,
   "id": "e8e2371c-e04e-4995-9d90-ef3007415d8a",
   "metadata": {},
   "outputs": [],
   "source": [
    "def shift_signal(input_signal,shift_amount):\n",
    "    output_signal=np.roll(input_signal,shift_amount)\n",
    "    return output_signal"
   ]
  },
  {
   "cell_type": "code",
   "execution_count": 23,
   "id": "04dca9c7-4f3e-45aa-a348-7e4eb99251e2",
   "metadata": {},
   "outputs": [],
   "source": [
    "Fs=1000\n",
    "T=1/Fs\n",
    "L=100\n",
    "t=np.arange(0,L)*T\n",
    "input_signal=np.zeros(L)\n",
    "input_signal[40:60]=1"
   ]
  },
  {
   "cell_type": "code",
   "execution_count": 25,
   "id": "4d6c3a59-490b-4686-8371-051bf259a707",
   "metadata": {},
   "outputs": [],
   "source": [
    "shift_amount=10\n",
    "output_signal=shift_signal(input_signal,shift_amount)"
   ]
  },
  {
   "cell_type": "code",
   "execution_count": null,
   "id": "973b5570-5fa4-4bb7-8ba8-d11cf10881c0",
   "metadata": {},
   "outputs": [],
   "source": [
    "plt.subplot(2,1,1)\n",
    "plt.stem(t,input_signal,basefmt=\"b\")\n",
    "plt.title(\"input signal\")\n",
    "plt.xlabel(\"Time(s)\")\n",
    "plt.ylabel"
   ]
  }
 ],
 "metadata": {
  "kernelspec": {
   "display_name": "Python 3 (ipykernel)",
   "language": "python",
   "name": "python3"
  },
  "language_info": {
   "codemirror_mode": {
    "name": "ipython",
    "version": 3
   },
   "file_extension": ".py",
   "mimetype": "text/x-python",
   "name": "python",
   "nbconvert_exporter": "python",
   "pygments_lexer": "ipython3",
   "version": "3.12.4"
  }
 },
 "nbformat": 4,
 "nbformat_minor": 5
}
