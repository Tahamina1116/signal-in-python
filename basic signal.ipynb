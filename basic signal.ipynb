{
 "cells": [
  {
   "cell_type": "code",
   "execution_count": 1,
   "id": "8a6eae96-bed0-475a-8bd7-1ee5c84c0682",
   "metadata": {},
   "outputs": [],
   "source": [
    "import numpy as np\n",
    "import matplotlib.pyplot as plt"
   ]
  },
  {
   "cell_type": "code",
   "execution_count": 9,
   "id": "62b36bd8-7cfb-4fc3-afbc-3ab8ac3a804c",
   "metadata": {},
   "outputs": [],
   "source": [
    "#unit step signal\n"
   ]
  },
  {
   "cell_type": "code",
   "execution_count": 47,
   "id": "52d74f18-a0ad-4f95-bd5d-9b86a7786591",
   "metadata": {},
   "outputs": [],
   "source": [
    "n=np.arange(-10,11)\n",
    "u=np.heaviside(n,1)\n"
   ]
  },
  {
   "cell_type": "code",
   "execution_count": 49,
   "id": "18e21c5a-fc0c-4140-b318-55c18a41e74c",
   "metadata": {},
   "outputs": [],
   "source": [
    "#unit impulse signal"
   ]
  },
  {
   "cell_type": "code",
   "execution_count": 51,
   "id": "4958e890-36de-4b22-bcc0-c66a28b6b0c7",
   "metadata": {},
   "outputs": [],
   "source": [
    "d=np.where(n==0,1,0)"
   ]
  },
  {
   "cell_type": "code",
   "execution_count": 53,
   "id": "282a9204-37e8-4541-9efc-21dbc3ef55aa",
   "metadata": {},
   "outputs": [],
   "source": [
    "#exponential signal"
   ]
  },
  {
   "cell_type": "code",
   "execution_count": 55,
   "id": "a0bea3ed-04db-414b-afda-02d65d57a600",
   "metadata": {},
   "outputs": [],
   "source": [
    "a=0.8\n",
    "x_exp=a**n"
   ]
  },
  {
   "cell_type": "code",
   "execution_count": 57,
   "id": "d4b5753e-4371-44ab-8a4a-070f32d6034a",
   "metadata": {},
   "outputs": [],
   "source": [
    "#unit ramp signal"
   ]
  },
  {
   "cell_type": "code",
   "execution_count": 59,
   "id": "843d679f-a034-44b0-864f-28d4a1381fdd",
   "metadata": {},
   "outputs": [],
   "source": [
    "x_ramp=n*u"
   ]
  },
  {
   "cell_type": "code",
   "execution_count": 61,
   "id": "55b807c6-b474-47ce-8f85-e2795fa7e822",
   "metadata": {},
   "outputs": [],
   "source": [
    "#unit parabolic signal"
   ]
  },
  {
   "cell_type": "code",
   "execution_count": 63,
   "id": "042c6318-4f0b-4b56-b98d-df7961d8de2e",
   "metadata": {},
   "outputs": [],
   "source": [
    "x_parabolic=n**2*u"
   ]
  },
  {
   "cell_type": "code",
   "execution_count": 65,
   "id": "12cdfe83-e261-4128-bf72-9580c6d7d3d6",
   "metadata": {},
   "outputs": [],
   "source": [
    "#unit rectangle pulse"
   ]
  },
  {
   "cell_type": "code",
   "execution_count": 67,
   "id": "d00d74ab-10a3-4a01-a747-992afd98a1ae",
   "metadata": {},
   "outputs": [],
   "source": [
    "x_rect=np.logical_and(n>=-5,n<=5)"
   ]
  },
  {
   "cell_type": "code",
   "execution_count": 27,
   "id": "0566b14b-b0b8-4d9a-873f-231d159bf490",
   "metadata": {},
   "outputs": [],
   "source": [
    "#triangular signal"
   ]
  },
  {
   "cell_type": "code",
   "execution_count": 69,
   "id": "662fccc2-6d17-4c28-822c-9c0405f5aaa4",
   "metadata": {},
   "outputs": [],
   "source": [
    "x_triangular=np.logical_and(n>=-5,n<=5)*(1-np.abs(n)/5)"
   ]
  },
  {
   "cell_type": "code",
   "execution_count": 71,
   "id": "016ddee4-7def-4b57-b4c1-a89df328f3af",
   "metadata": {},
   "outputs": [],
   "source": [
    "f=0.1\n",
    "x_sine=np.sin(2*np.pi*f*n)"
   ]
  },
  {
   "cell_type": "code",
   "execution_count": 73,
   "id": "1bbc7132-8849-4d13-a1e1-c9d826747468",
   "metadata": {},
   "outputs": [],
   "source": [
    "x_even=(x_sine+np.flip(x_sine))/2\n",
    "x_odd=(x_sine-np.flip(x_sine))/2"
   ]
  },
  {
   "cell_type": "code",
   "execution_count": 39,
   "id": "7019e370-4d8c-415f-b6dc-71c0ec08fc59",
   "metadata": {},
   "outputs": [
    {
     "data": {
      "text/plain": [
       "Text(0.5, 1.0, 'unit step signal')"
      ]
     },
     "execution_count": 39,
     "metadata": {},
     "output_type": "execute_result"
    },
    {
     "data": {
      "image/png": "[encoded data removed]",
      "text/plain": [
       "<Figure size 640x480 with 1 Axes>"
      ]
     },
     "metadata": {},
     "output_type": "display_data"
    }
   ],
   "source": [
    "plt.subplot(3,3,1);plt.stem(n,u);plt.title('unit step signal')"
   ]
  },
  {
   "cell_type": "code",
   "execution_count": 75,
   "id": "7a24f43f-7188-4abe-90a0-8fb93ae6ff57",
   "metadata": {},
   "outputs": [
    {
     "data": {
      "text/plain": [
       "Text(0.5, 1.0, 'unit impulse signal')"
      ]
     },
     "execution_count": 75,
     "metadata": {},
     "output_type": "execute_result"
    },
    {
     "data": {
      "image/png": "[encoded data removed]",
      "text/plain": [
       "<Figure size 640x480 with 1 Axes>"
      ]
     },
     "metadata": {},
     "output_type": "display_data"
    }
   ],
   "source": [
    "plt.subplot(3,3,2);plt.stem(n,d);plt.title('unit impulse signal')"
   ]
  },
  {
   "cell_type": "code",
   "execution_count": 77,
   "id": "340cb8ca-37e7-4625-be89-7b9bb6f627e9",
   "metadata": {},
   "outputs": [
    {
     "data": {
      "text/plain": [
       "Text(0.5, 1.0, 'Exponential signal')"
      ]
     },
     "execution_count": 77,
     "metadata": {},
     "output_type": "execute_result"
    },
    {
     "data": {
      "image/png": "[encoded data removed]",
      "text/plain": [
       "<Figure size 640x480 with 1 Axes>"
      ]
     },
     "metadata": {},
     "output_type": "display_data"
    }
   ],
   "source": [
    "plt.subplot(3,3,3);plt.stem(n,x_exp);plt.title('Exponential signal')"
   ]
  },
  {
   "cell_type": "code",
   "execution_count": 79,
   "id": "8e92ef5b-eb58-4244-b1d4-b7ad1543f4fd",
   "metadata": {},
   "outputs": [
    {
     "data": {
      "text/plain": [
       "Text(0.5, 1.0, 'Unit ramp signal')"
      ]
     },
     "execution_count": 79,
     "metadata": {},
     "output_type": "execute_result"
    },
    {
     "data": {
      "image/png": "[encoded data removed]",
      "text/plain": [
       "<Figure size 640x480 with 1 Axes>"
      ]
     },
     "metadata": {},
     "output_type": "display_data"
    }
   ],
   "source": [
    "plt.subplot(3,3,4);plt.stem(n,x_ramp);plt.title('Unit ramp signal')"
   ]
  },
  {
   "cell_type": "code",
   "execution_count": 79,
   "id": "f9b66304-c2ae-459a-80ff-119f53d00465",
   "metadata": {},
   "outputs": [
    {
     "data": {
      "text/plain": [
       "Text(0.5, 1.0, 'Unit ramp signal')"
      ]
     },
     "execution_count": 79,
     "metadata": {},
     "output_type": "execute_result"
    },
    {
     "data": {
      "image/png": "[encoded data removed]",
      "text/plain": [
       "<Figure size 640x480 with 1 Axes>"
      ]
     },
     "metadata": {},
     "output_type": "display_data"
    }
   ],
   "source": [
    "plt.subplot(3,3,4);plt.stem(n,x_ramp);plt.title('Unit ramp signal')"
   ]
  },
  {
   "cell_type": "code",
   "execution_count": 81,
   "id": "dc4900de-edd8-49d6-a77c-c1c9821dda77",
   "metadata": {},
   "outputs": [
    {
     "data": {
      "text/plain": [
       "Text(0.5, 1.0, 'Unit parabolic signal')"
      ]
     },
     "execution_count": 81,
     "metadata": {},
     "output_type": "execute_result"
    },
    {
     "data": {
      "image/png": "[encoded data removed]",
      "text/plain": [
       "<Figure size 640x480 with 1 Axes>"
      ]
     },
     "metadata": {},
     "output_type": "display_data"
    }
   ],
   "source": [
    "plt.subplot(3,3,5);plt.stem(n,x_parabolic);plt.title('Unit parabolic signal')"
   ]
  },
  {
   "cell_type": "code",
   "execution_count": 87,
   "id": "eb6d1aff-2a23-4244-bdd6-45bb583d31a2",
   "metadata": {},
   "outputs": [
    {
     "data": {
      "text/plain": [
       "Text(0.5, 1.0, 'Unit rectangle signal')"
      ]
     },
     "execution_count": 87,
     "metadata": {},
     "output_type": "execute_result"
    },
    {
     "data": {
      "image/png": "[encoded data removed]",
      "text/plain": [
       "<Figure size 640x480 with 1 Axes>"
      ]
     },
     "metadata": {},
     "output_type": "display_data"
    }
   ],
   "source": [
    "plt.subplot(3,3,6);plt.stem(n,x_rect);plt.title('Unit rectangle signal')"
   ]
  },
  {
   "cell_type": "code",
   "execution_count": 89,
   "id": "4637d03e-701b-4a6b-afc4-95dbda857406",
   "metadata": {},
   "outputs": [
    {
     "data": {
      "text/plain": [
       "Text(0.5, 1.0, 'Unit triangular signal')"
      ]
     },
     "execution_count": 89,
     "metadata": {},
     "output_type": "execute_result"
    },
    {
     "data": {
      "image/png": "[encoded data removed]",
      "text/plain": [
       "<Figure size 640x480 with 1 Axes>"
      ]
     },
     "metadata": {},
     "output_type": "display_data"
    }
   ],
   "source": [
    "plt.subplot(3,3,7);plt.stem(n,x_triangular);plt.title('Unit triangular signal')"
   ]
  },
  {
   "cell_type": "code",
   "execution_count": 91,
   "id": "e4746f6b-b886-4f7b-8e04-30d5ce63d57b",
   "metadata": {},
   "outputs": [
    {
     "data": {
      "text/plain": [
       "Text(0.5, 1.0, 'sinusoidal signal')"
      ]
     },
     "execution_count": 91,
     "metadata": {},
     "output_type": "execute_result"
    },
    {
     "data": {
      "image/png": "[encoded data removed]",
      "text/plain": [
       "<Figure size 640x480 with 1 Axes>"
      ]
     },
     "metadata": {},
     "output_type": "display_data"
    }
   ],
   "source": [
    "plt.subplot(3,3,8);plt.stem(n,x_sine);plt.title('sinusoidal signal')"
   ]
  },
  {
   "cell_type": "code",
   "execution_count": 95,
   "id": "112f8795-97b8-4555-90a6-3acff08052c3",
   "metadata": {},
   "outputs": [
    {
     "data": {
      "text/plain": [
       "Text(0.5, 1.0, 'even signal and odd signal')"
      ]
     },
     "execution_count": 95,
     "metadata": {},
     "output_type": "execute_result"
    },
    {
     "data": {
      "image/png": "[encoded data removed]",
      "text/plain": [
       "<Figure size 640x480 with 1 Axes>"
      ]
     },
     "metadata": {},
     "output_type": "display_data"
    }
   ],
   "source": [
    "plt.subplot(3,3,8);plt.stem(n,x_even);plt.stem(n,x_odd,'r');plt.title('even signal and odd signal')"
   ]
  },
  {
   "cell_type": "code",
   "execution_count": null,
   "id": "2c2631db-cf86-4c10-848d-b6d5a08bd426",
   "metadata": {},
   "outputs": [],
   "source": []
  }
 ],
 "metadata": {
  "kernelspec": {
   "display_name": "Python 3 (ipykernel)",
   "language": "python",
   "name": "python3"
  },
  "language_info": {
   "codemirror_mode": {
    "name": "ipython",
    "version": 3
   },
   "file_extension": ".py",
   "mimetype": "text/x-python",
   "name": "python",
   "nbconvert_exporter": "python",
   "pygments_lexer": "ipython3",
   "version": "3.12.4"
  }
 },
 "nbformat": 4,
 "nbformat_minor": 5
}
